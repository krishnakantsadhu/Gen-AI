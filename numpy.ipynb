{
 "cells": [
  {
   "cell_type": "markdown",
   "id": "8c77856b",
   "metadata": {},
   "source": [
    "### 1. What is NumPy?\n",
    "NumPy (Numerical Python) is a powerful Python library used for numerical computations. It\n",
    "provides support for large, multi-dimensional arrays and matrices, along with a collection of\n",
    "mathematical functions to operate on these arrays efficiently. NumPy is widely used in\n",
    "scientific computing, data analysis, machine learning, and AI applications.\n",
    "NumPy is an essential library for numerical computations in Python. Its efficiency, speed, and\n",
    "ease of use make it indispensable for data science, AI, and scientific computing. Whether\n",
    "you're working with large datasets, complex mathematical functions, or machine learning\n",
    "models, NumPy is the go-to tool.\n",
    "\n",
    "### 2. Why Do We Need NumPy?\n",
    "1. Efficient Computation\n",
    "- NumPy is significantly faster than Python lists because it uses C and Fortran under the hood.\n",
    "- It provides optimized vectorized operations that eliminate the need for loops innumerical computations.\n",
    "2. Memory Efficiency\n",
    "- NumPy arrays consume less memory compared to Python lists due to their fixed data type and efficient storage.\n",
    "3. Multi-Dimensional Arrays (ndarray)\n",
    "- NumPy supports n-dimensional arrays, making it useful for handling matrices and tensor operations.\n",
    "4. Broadcasting\n",
    "- It allows arithmetic operations on arrays of different shapes without explicitly reshaping them.\n",
    "5. Built-in Mathematical Functions\n",
    "- Includes a vast range of mathematical functions like sin(), cos(), log(), mean(), std(), etc.\n",
    "6. Integration with Other Libraries\n",
    "- NumPy is the foundation of many data science and AI libraries, such as Pandas, SciPy, TensorFlow, and PyTorch."
   ]
  },
  {
   "cell_type": "markdown",
   "id": "b7a139a8",
   "metadata": {},
   "source": [
    "### 3. Creating Arrays"
   ]
  },
  {
   "cell_type": "code",
   "execution_count": 6,
   "id": "287fbe1f",
   "metadata": {},
   "outputs": [
    {
     "name": "stdout",
     "output_type": "stream",
     "text": [
      "[1 2 3 4 5]\n",
      "[[1 2 3]\n",
      " [4 5 6]]\n",
      "[[1 2 3 4 5]]\n",
      "[[1]\n",
      " [2]\n",
      " [3]\n",
      " [4]\n",
      " [5]]\n",
      "[[[  1   2   3]\n",
      "  [  4   5   6]]\n",
      "\n",
      " [[ 11  22  33]\n",
      "  [ 44  55  66]]\n",
      "\n",
      " [[111 222 333]\n",
      "  [444 555 666]]]\n",
      "[[[[  1   2   3]\n",
      "   [  4   5   6]]\n",
      "\n",
      "  [[ 11  22  33]\n",
      "   [ 44  55  66]]\n",
      "\n",
      "  [[111 222 333]\n",
      "   [444 555 666]]]\n",
      "\n",
      "\n",
      " [[[  1   2   3]\n",
      "   [  4   5   6]]\n",
      "\n",
      "  [[ 11  22  33]\n",
      "   [ 44  55  66]]\n",
      "\n",
      "  [[111 222 333]\n",
      "   [444 555 666]]]]\n"
     ]
    }
   ],
   "source": [
    "import numpy as np\n",
    "\n",
    "# Creating a 1D array\n",
    "arr1 = np.array([1, 2, 3, 4, 5])\n",
    "print(arr1)\n",
    "\n",
    "# Creating a 2D array\n",
    "arr2 = np.array([[1, 2, 3], [4, 5, 6]])\n",
    "print(arr2)\n",
    "\n",
    "# Creating a 2D array\n",
    "arr3 = np.array([[1, 2, 3,4,5]])\n",
    "print(arr3)\n",
    "\n",
    "# Creating a 2D array\n",
    "arr4 = np.array([[1], [2], [3],[4],[5]])\n",
    "print(arr4)\n",
    "\n",
    "# Creating a 3D array\n",
    "arr5 = np.array([[[1, 2, 3], [4, 5, 6]], \n",
    "                 [[11, 22, 33], [44, 55, 66]],\n",
    "                 [[111, 222, 333], [444, 555, 666]]])\n",
    "print(arr5)\n",
    "\n",
    "# Creating a 3D array\n",
    "arr6 = np.array([[[[1, 2, 3], [4, 5, 6]], \n",
    "                 [[11, 22, 33], [44, 55, 66]],\n",
    "                 [[111, 222, 333], [444, 555, 666]]],\n",
    "\n",
    "                 [[[1, 2, 3], [4, 5, 6]], \n",
    "                 [[11, 22, 33], [44, 55, 66]],\n",
    "                 [[111, 222, 333], [444, 555, 666]]]])\n",
    "print(arr6)\n"
   ]
  },
  {
   "cell_type": "markdown",
   "id": "cbe5a6da",
   "metadata": {},
   "source": [
    "### 4. Array Properties"
   ]
  },
  {
   "cell_type": "code",
   "execution_count": 7,
   "id": "bb0bd0f1",
   "metadata": {},
   "outputs": [
    {
     "name": "stdout",
     "output_type": "stream",
     "text": [
      "(5,)\n",
      "5\n",
      "int64\n",
      "(2, 3)\n",
      "6\n",
      "int64\n",
      "(1, 5)\n",
      "5\n",
      "int64\n",
      "(5, 1)\n",
      "5\n",
      "int64\n",
      "(3, 2, 3)\n",
      "18\n",
      "int64\n",
      "(2, 3, 2, 3)\n",
      "36\n",
      "int64\n"
     ]
    }
   ],
   "source": [
    "print(arr1.shape)\n",
    "print(arr1.size)\n",
    "print(arr1.dtype)\n",
    "\n",
    "print(arr2.shape)\n",
    "print(arr2.size)\n",
    "print(arr2.dtype)\n",
    "\n",
    "print(arr3.shape)\n",
    "print(arr3.size)\n",
    "print(arr3.dtype)\n",
    "\n",
    "print(arr4.shape)\n",
    "print(arr4.size)\n",
    "print(arr4.dtype)\n",
    "\n",
    "print(arr5.shape)\n",
    "print(arr5.size)\n",
    "print(arr5.dtype)\n",
    "\n",
    "print(arr6.shape)\n",
    "print(arr6.size)\n",
    "print(arr6.dtype)\n"
   ]
  },
  {
   "cell_type": "markdown",
   "id": "ad9e627a",
   "metadata": {},
   "source": [
    "### 5. Special Arrays"
   ]
  },
  {
   "cell_type": "code",
   "execution_count": 52,
   "id": "c012a876",
   "metadata": {},
   "outputs": [
    {
     "data": {
      "text/plain": [
       "array([[0., 0., 0.],\n",
       "       [0., 0., 0.],\n",
       "       [0., 0., 0.]])"
      ]
     },
     "execution_count": 52,
     "metadata": {},
     "output_type": "execute_result"
    }
   ],
   "source": [
    "np.zeros((3, 3)) # 3x3 matrix filled with zeros"
   ]
  },
  {
   "cell_type": "code",
   "execution_count": 53,
   "id": "c27c317f",
   "metadata": {},
   "outputs": [
    {
     "data": {
      "text/plain": [
       "array([[1., 1.],\n",
       "       [1., 1.]])"
      ]
     },
     "execution_count": 53,
     "metadata": {},
     "output_type": "execute_result"
    }
   ],
   "source": [
    "np.ones((2, 2)) # 2x2 matrix filled with ones"
   ]
  },
  {
   "cell_type": "code",
   "execution_count": 54,
   "id": "458e03d8",
   "metadata": {},
   "outputs": [
    {
     "data": {
      "text/plain": [
       "array([[1., 0., 0.],\n",
       "       [0., 1., 0.],\n",
       "       [0., 0., 1.]])"
      ]
     },
     "execution_count": 54,
     "metadata": {},
     "output_type": "execute_result"
    }
   ],
   "source": [
    "np.eye(3) # Identity matrix of size 3x3"
   ]
  },
  {
   "cell_type": "code",
   "execution_count": 55,
   "id": "66f38818",
   "metadata": {},
   "outputs": [
    {
     "data": {
      "text/plain": [
       "array([0, 2, 4, 6, 8])"
      ]
     },
     "execution_count": 55,
     "metadata": {},
     "output_type": "execute_result"
    }
   ],
   "source": [
    "np.arange(0, 10, 2) # Array from 0 to 10 with step 2"
   ]
  },
  {
   "cell_type": "code",
   "execution_count": 56,
   "id": "9b797660",
   "metadata": {},
   "outputs": [
    {
     "data": {
      "text/plain": [
       "array([1.        , 1.44444444, 1.88888889, 2.33333333, 2.77777778,\n",
       "       3.22222222, 3.66666667, 4.11111111, 4.55555556, 5.        ])"
      ]
     },
     "execution_count": 56,
     "metadata": {},
     "output_type": "execute_result"
    }
   ],
   "source": [
    "np.linspace(1, 5, 10) # 10 values between 1 and 5"
   ]
  },
  {
   "cell_type": "markdown",
   "id": "2bb4c012",
   "metadata": {},
   "source": [
    "### 6. Mathematical Operations"
   ]
  },
  {
   "cell_type": "code",
   "execution_count": 57,
   "id": "94a7390d",
   "metadata": {},
   "outputs": [
    {
     "name": "stdout",
     "output_type": "stream",
     "text": [
      "[5 7 9]\n",
      "[-3 -3 -3]\n",
      "[ 4 10 18]\n",
      "[0.25 0.4  0.5 ]\n",
      "32\n"
     ]
    }
   ],
   "source": [
    "a = np.array([1, 2, 3])\n",
    "b = np.array([4, 5, 6])\n",
    "print(a + b) # Element-wise addition\n",
    "print(a - b) # Element-wise subtraction\n",
    "print(a * b) # Element-wise multiplication\n",
    "print(a / b) # Element-wise division\n",
    "print(np.dot(a, b)) # Dot product"
   ]
  },
  {
   "cell_type": "markdown",
   "id": "6848c184",
   "metadata": {},
   "source": [
    "### 7. Array Reshaping"
   ]
  },
  {
   "cell_type": "code",
   "execution_count": 58,
   "id": "8cf829a1",
   "metadata": {},
   "outputs": [
    {
     "name": "stdout",
     "output_type": "stream",
     "text": [
      "[1 2 3 4 5 6 7 8 9]\n",
      "[[1 2 3]\n",
      " [4 5 6]\n",
      " [7 8 9]]\n"
     ]
    }
   ],
   "source": [
    "arr = np.arange(1,10)\n",
    "print(arr)\n",
    "reshaped = arr.reshape(3, 3) # Reshapes 1D array into 3x3 matrix\n",
    "print(reshaped)"
   ]
  },
  {
   "cell_type": "markdown",
   "id": "4967f8fb",
   "metadata": {},
   "source": [
    "### 8. Indexing & Slicing"
   ]
  },
  {
   "cell_type": "code",
   "execution_count": 59,
   "id": "64291137",
   "metadata": {},
   "outputs": [
    {
     "name": "stdout",
     "output_type": "stream",
     "text": [
      "20\n",
      "[20 30 40]\n"
     ]
    }
   ],
   "source": [
    "arr = np.array([10, 20, 30, 40, 50])\n",
    "print(arr[1]) # 20 (Indexing)\n",
    "print(arr[1:4]) # [20, 30, 40] (Slicing), from index 1 to 4 (exclude)"
   ]
  },
  {
   "cell_type": "markdown",
   "id": "64c061b2",
   "metadata": {},
   "source": [
    "### 9. Aggregation Functions\n",
    "\n",
    "Mean: $ \\mu = \\frac{1}{n} \\sum_{i=1}^{n} x_i $\n",
    "\n",
    "Standard Deviation: $ \\sigma = \\sqrt{ \\frac{1}{n} \\sum_{i=1}^{n} (x_i - \\mu)^2 } $\n",
    "\n",
    "| Symbol             | Meaning                       |\n",
    "| ------------------ | ----------------------------- |\n",
    "| $x_i$              | Data point                    |\n",
    "| $\\mu$ or $\\bar{x}$ | Mean of the data              |\n",
    "| $n$                | Number of data points         |\n",
    "| $\\sigma$           | Population standard deviation |"
   ]
  },
  {
   "cell_type": "code",
   "execution_count": 60,
   "id": "6a224faf",
   "metadata": {},
   "outputs": [
    {
     "name": "stdout",
     "output_type": "stream",
     "text": [
      "Sum = 36\n",
      "Mean = 4.5\n",
      "Standard Deviation = 2.29128784747792\n",
      "Max = 8\n",
      "Min  1\n"
     ]
    }
   ],
   "source": [
    "arr = np.array([1,2,3,4,5,6,7,8])\n",
    "sum = np.sum(arr)\n",
    "print(\"Sum =\",sum)\n",
    "print(\"Mean =\", np.mean(arr))\n",
    "print(\"Standard Deviation =\", np.std(arr))\n",
    "print(\"Max =\", np.max(arr))\n",
    "print(\"Min \",np.min(arr))"
   ]
  },
  {
   "cell_type": "markdown",
   "id": "b24253de",
   "metadata": {},
   "source": [
    "### 10. Random Numbers"
   ]
  },
  {
   "cell_type": "code",
   "execution_count": 61,
   "id": "0f5a16ef",
   "metadata": {},
   "outputs": [
    {
     "data": {
      "text/plain": [
       "array([[0.14639987, 0.68645279, 0.51286105, 0.09780833],\n",
       "       [0.54896893, 0.52320524, 0.88995804, 0.77992529],\n",
       "       [0.24384942, 0.93221969, 0.97524984, 0.08051352]])"
      ]
     },
     "execution_count": 61,
     "metadata": {},
     "output_type": "execute_result"
    }
   ],
   "source": [
    "np.random.rand(3,4)  # 3x4 matrix of random numbers between 0 and 1"
   ]
  },
  {
   "cell_type": "code",
   "execution_count": 62,
   "id": "036b6d17",
   "metadata": {},
   "outputs": [
    {
     "data": {
      "text/plain": [
       "array([[48, 72, 67],\n",
       "       [79, 31, 64],\n",
       "       [17, 31, 45]])"
      ]
     },
     "execution_count": 62,
     "metadata": {},
     "output_type": "execute_result"
    }
   ],
   "source": [
    "np.random.randint(1,100,(3,3)) # # 3x3 matrix of random integers from 1 to 100"
   ]
  },
  {
   "cell_type": "markdown",
   "id": "5e085d75",
   "metadata": {},
   "source": [
    "### 11. Why Do We Need NumPy Arrays Instead of Python Lists or Standard Python Sequences?\n",
    "Python lists are flexible and easy to use, but they have significant performance and memory\n",
    "limitations when dealing with large numerical computations. NumPy arrays (ndarray) are\n",
    "optimized for performance, memory efficiency, and numerical operations, making them a\n",
    "superior choice for numerical and scientific computing.\n",
    "\n",
    "##### 1. Performance: NumPy is Faster than Python Lists\n",
    "Reason: NumPy Uses Optimized C Implementations\n",
    "NumPy operations are implemented in C and Fortran, which makes them significantly faster\n",
    "than Python lists, which are dynamically typed and interpreted at runtime.\n",
    "\n",
    "Example: Speed Comparison\n",
    "Let's compare the speed of NumPy arrays and Python lists for an element-wise multiplication\n",
    "operation."
   ]
  },
  {
   "cell_type": "code",
   "execution_count": 63,
   "id": "b14945c3",
   "metadata": {},
   "outputs": [
    {
     "name": "stdout",
     "output_type": "stream",
     "text": [
      "Python List Time: 0.6797261238098145\n",
      "NumPy Array Time: 0.07065796852111816\n"
     ]
    }
   ],
   "source": [
    "import numpy as np\n",
    "import time\n",
    "# Creating large lists and arrays\n",
    "size = 10000000\n",
    "py_list1 = list(range(size))\n",
    "py_list2 = list(range(size))\n",
    "\n",
    "np_array1 = np.arange(size)\n",
    "np_array2 = np.arange(size)\n",
    "\n",
    "# Timing Python list multiplication\n",
    "start = time.time()\n",
    "py_result = [x * y for x, y in zip(py_list1, py_list2)]\n",
    "end = time.time()\n",
    "print(\"Python List Time:\", end - start)\n",
    "\n",
    "# Timing NumPy array multiplication\n",
    "start = time.time()\n",
    "np_result = np_array1 * np_array2 # Vectorized operation\n",
    "end = time.time()\n",
    "print(\"NumPy Array Time:\", end - start)\n",
    "\n",
    "# Result: NumPy is typically 10-100x faster than Python lists for large operations."
   ]
  },
  {
   "cell_type": "markdown",
   "id": "30a99f8e",
   "metadata": {},
   "source": [
    "##### 2. Memory Efficiency: NumPy Uses Less Memory\n",
    "\n",
    "Reason: NumPy Stores Data More Compactly\n",
    "\n",
    "Python lists store elements as objects, which introduce extra overhead. NumPy arrays store\n",
    "elements as contiguous blocks of memory with fixed data types, making them more space-\n",
    "efficient.\n",
    "\n",
    "Example: Memory Usage Comparison"
   ]
  },
  {
   "cell_type": "code",
   "execution_count": 64,
   "id": "e7e08650",
   "metadata": {},
   "outputs": [
    {
     "name": "stdout",
     "output_type": "stream",
     "text": [
      "Python List Memory (bytes): 36052\n",
      "NumPy Array Memory (bytes): 8000\n"
     ]
    }
   ],
   "source": [
    "import sys\n",
    "size = 1000\n",
    "\n",
    "# Python list memory consumption\n",
    "py_list = list(range(size))\n",
    "sum_size = sys.getsizeof(py_list) \n",
    "for i in py_list:\n",
    "    sum_size = sum_size + sys.getsizeof(i)\n",
    "print(\"Python List Memory (bytes):\",sum_size)\n",
    "\n",
    "# NumPy array memory consumption\n",
    "np_array = np.arange(size)\n",
    "print(\"NumPy Array Memory (bytes):\", np_array.nbytes)\n",
    "\n",
    "#Result: NumPy arrays consume significantly less memory than Python lists.\n"
   ]
  },
  {
   "cell_type": "markdown",
   "id": "1776a08e",
   "metadata": {},
   "source": [
    "##### 3. Broadcasting: Element-wise Operations Without Loops\n",
    "\n",
    "Reason: NumPy Supports Vectorized Operations\n",
    "\n",
    "In Python lists, operations require explicit loops or list comprehensions, while NumPy arrays\n",
    "perform operations in a vectorized manner (applied to all elements simultaneously).\n",
    "\n",
    "Example: Python List vs. NumPy Array Operations"
   ]
  },
  {
   "cell_type": "code",
   "execution_count": 65,
   "id": "453af3ef",
   "metadata": {},
   "outputs": [],
   "source": [
    "# Using Python lists (Requires a loop)\n",
    "py_list = [1, 2, 3, 4, 5]\n",
    "py_result = [x * 2 for x in py_list] # Requires explicit iteration\n",
    "\n",
    "# Using NumPy (No loop required)\n",
    "np_array = np.array([1, 2, 3, 4, 5])\n",
    "np_result = np_array * 2 # Vectorized operation\n",
    "\n",
    "#Result: NumPy code is cleaner, shorter, and faster."
   ]
  },
  {
   "cell_type": "markdown",
   "id": "94b29d41",
   "metadata": {},
   "source": [
    "##### 4. Multi-Dimensional Data Handling\n",
    "Reason: NumPy Supports Multi-Dimensional Arrays (ndarray)\n",
    "\n",
    "Python lists require nested lists to represent matrices, making indexing and operations\n",
    "cumbersome. NumPy provides n-dimensional arrays (ndarray), allowing for efficient\n",
    "matrix operations.\n",
    "\n",
    "Example: 2D Matrix Operations"
   ]
  },
  {
   "cell_type": "code",
   "execution_count": 66,
   "id": "4b0c2ce9",
   "metadata": {},
   "outputs": [],
   "source": [
    "# Python list (Nested list representation)\n",
    "py_matrix = [[1, 2, 3], [4, 5, 6]]\n",
    "py_matrix_transpose = [[py_matrix[j][i] for j in range(2)] for i in range(3)] # Manual transpose\n",
    "\n",
    "# NumPy (Direct operations)\n",
    "np_matrix = np.array([[1, 2, 3], [4, 5, 6]])\n",
    "np_transpose = np_matrix.T # Transpose\n",
    "\n",
    "#Result: NumPy allows built-in, optimized matrix operations, avoiding manual loops."
   ]
  },
  {
   "cell_type": "markdown",
   "id": "52699334",
   "metadata": {},
   "source": [
    "##### 5. Built-in Mathematical Functions\n",
    "Reason: NumPy Provides Extensive Mathematical Functions\n",
    "\n",
    "Python lists require manual implementations or math/statistics modules, while NumPy offers\n",
    "efficient built-in functions.\n",
    "\n",
    "Example: Computing Mean and Standard Deviation"
   ]
  },
  {
   "cell_type": "code",
   "execution_count": 67,
   "id": "11c22e18",
   "metadata": {},
   "outputs": [
    {
     "name": "stdout",
     "output_type": "stream",
     "text": [
      "Python Mean: 3  NumPy Mean: 3.0\n",
      "Python Std Dev: 1.5811388300841898  NumPy Std Dev: 1.4142135623730951\n"
     ]
    }
   ],
   "source": [
    "import statistics\n",
    "py_list = [1, 2, 3, 4, 5]\n",
    "\n",
    "# Using Python's statistics module\n",
    "py_mean = statistics.mean(py_list)\n",
    "py_std = statistics.stdev(py_list)\n",
    "\n",
    "# Using NumPy (Optimized)\n",
    "np_array = np.array([1, 2, 3, 4, 5])\n",
    "np_mean = np_array.mean()\n",
    "np_std = np_array.std()\n",
    "\n",
    "print(\"Python Mean:\", py_mean, \" NumPy Mean:\", np_mean)\n",
    "print(\"Python Std Dev:\", py_std, \" NumPy Std Dev:\", np_std)"
   ]
  },
  {
   "cell_type": "markdown",
   "id": "4a55b944",
   "metadata": {},
   "source": [
    "##### 6. Advanced Operations: Linear Algebra & Random Number Generation\n",
    "NumPy provides:\n",
    "- Linear Algebra (e.g., matrix multiplication, eigenvalues, determinants)\n",
    "- Random Number Generation (e.g., normal distribution, uniform distribution)\n",
    "- Fourier Transforms & Signal Processing\n",
    "\n",
    "Example: Matrix Multiplication"
   ]
  },
  {
   "cell_type": "code",
   "execution_count": 68,
   "id": "1b5edc09",
   "metadata": {},
   "outputs": [
    {
     "name": "stdout",
     "output_type": "stream",
     "text": [
      "[[19 22]\n",
      " [43 50]]\n"
     ]
    }
   ],
   "source": [
    "A = np.array([[1, 2], [3, 4]])\n",
    "B = np.array([[5, 6], [7, 8]])\n",
    "# Matrix multiplication\n",
    "C = np.dot(A, B)\n",
    "print(C)"
   ]
  },
  {
   "cell_type": "markdown",
   "id": "aae0b2bf",
   "metadata": {},
   "source": [
    "##### 7. Vectorization in NumPy\n",
    "Vectorization is a technique in NumPy that allows operations to be applied to entire arrays\n",
    "(vectors) at once, without the need for explicit loops. This is possible because NumPy\n",
    "executes operations in compiled C code under the hood, making them significantly faster\n",
    "and more efficient than using Python loops.\n",
    "\n",
    "Why Use Vectorization?\n",
    "1. Faster Execution:\n",
    "2. Simpler Code:\n",
    "3. Memory Efficient:\n",
    "4. Parallel Execution:\n",
    "- NumPy operations run in optimized C code, avoiding Python's slow loops.\n",
    "- No need for “for” loops or list comprehensions.\n",
    "- NumPy arrays use contiguous memory blocks, reducing overhead.\n",
    "- Takes advantage of SIMD (Single Instruction Multiple Data) processing.\n",
    "\n",
    "Example: Without vs. With Vectorization"
   ]
  },
  {
   "cell_type": "code",
   "execution_count": 70,
   "id": "90e923a2",
   "metadata": {},
   "outputs": [
    {
     "name": "stdout",
     "output_type": "stream",
     "text": [
      "Python Loop Time: 0.04154491424560547\n",
      "NumPy Vectorization Time: 0.006979942321777344\n"
     ]
    }
   ],
   "source": [
    "# Using Python Loops (Slow)\n",
    "import time\n",
    "# Creating large arrays\n",
    "size = 10**6\n",
    "py_list1 = list(range(size))\n",
    "py_list2 = list(range(size))\n",
    "\n",
    "start = time.time()\n",
    "result = [x * y for x, y in zip(py_list1, py_list2)] # Loop-based multiplication\n",
    "end = time.time()\n",
    "print(\"Python Loop Time:\", end - start)\n",
    "\n",
    "#Using NumPy Vectorization (Fast)\n",
    "import numpy as np\n",
    "np_array1 = np.arange(size)\n",
    "np_array2 = np.arange(size)\n",
    "start = time.time()\n",
    "result = np_array1 * np_array2 # Vectorized multiplication\n",
    "end = time.time()\n",
    "print(\"NumPy Vectorization Time:\", end - start)\n",
    "\n",
    "#Result: NumPy's vectorized operations can be 10-100x faster than using Python loops!"
   ]
  },
  {
   "cell_type": "markdown",
   "id": "cd10c2bc",
   "metadata": {},
   "source": [
    "##### 8. Broadcasting in NumPy\n",
    "\n",
    "What is Broadcasting?\n",
    "Broadcasting is a feature in NumPy that allows operations between arrays of different\n",
    "shapes without the need for explicit loops or reshaping. Instead of manually adjusting array\n",
    "dimensions, NumPy automatically expands smaller arrays so that element-wise operations\n",
    "can be performed efficiently.\n",
    "\n",
    "Why is Broadcasting Useful?\n",
    "- Avoids Explicit Loops → Faster execution\n",
    "- Memory Efficient → No unnecessary copies of arrays\n",
    "- Simplifies Code → Cleaner and more readable\n",
    "\n",
    "Broadcasting Rules\n",
    "For NumPy to perform broadcasting, it follows three simple rules to match array shapes:\n",
    "- If the dimensions are different, NumPy automatically adds missing dimensions to the smaller array (left-padding with 1s).\n",
    "- If one dimension is 1, NumPy stretches it to match the other dimension.\n",
    "- If dimensions are incompatible (neither is 1 and they are different), an error occurs.\n",
    "\n",
    "Examples of Broadcasting\n",
    "\n",
    "Scalar and Array Broadcasting"
   ]
  },
  {
   "cell_type": "code",
   "execution_count": 72,
   "id": "60bcf560",
   "metadata": {},
   "outputs": [
    {
     "name": "stdout",
     "output_type": "stream",
     "text": [
      "[11 12 13]\n"
     ]
    }
   ],
   "source": [
    "import numpy as np\n",
    "arr = np.array([1, 2, 3]) # Shape: (3,)\n",
    "scalar = 10 # Shape: ()\n",
    "result = arr + scalar # Broadcasting applies here\n",
    "print(result) # [11 12 13]\n",
    "\n",
    "# NumPy automatically expands scalar to match arr.\n",
    "# Shape transformation: (3,) + () → (3,)"
   ]
  }
 ],
 "metadata": {
  "kernelspec": {
   "display_name": "tf-mac",
   "language": "python",
   "name": "python3"
  },
  "language_info": {
   "codemirror_mode": {
    "name": "ipython",
    "version": 3
   },
   "file_extension": ".py",
   "mimetype": "text/x-python",
   "name": "python",
   "nbconvert_exporter": "python",
   "pygments_lexer": "ipython3",
   "version": "3.10.18"
  }
 },
 "nbformat": 4,
 "nbformat_minor": 5
}
