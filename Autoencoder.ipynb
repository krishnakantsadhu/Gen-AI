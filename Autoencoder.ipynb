{
  "cells": [
    {
      "cell_type": "code",
      "execution_count": 8,
      "metadata": {
        "id": "s8egaOsLXYr4"
      },
      "outputs": [],
      "source": [
        "import tensorflow as tf\n",
        "from tensorflow.keras import layers, models\n",
        "import numpy as np\n",
        "import matplotlib.pyplot as plt"
      ]
    },
    {
      "cell_type": "code",
      "execution_count": 9,
      "metadata": {
        "colab": {
          "base_uri": "https://localhost:8080/"
        },
        "id": "uZsDOZwDXppB",
        "outputId": "a2a8d1fa-c45b-4ccf-9b3b-f1b1922bdac3"
      },
      "outputs": [
        {
          "name": "stdout",
          "output_type": "stream",
          "text": [
            "x_train shape: (60000, 28, 28)\n",
            "x_test shape: (10000, 28, 28)\n",
            "x_train shape: (60000, 28, 28, 1)\n",
            "x_test shape: (10000, 28, 28, 1)\n"
          ]
        }
      ],
      "source": [
        "(x_train, _), (x_test, _) = tf.keras.datasets.mnist.load_data()\n",
        "\n",
        "x_train = x_train/255.0\n",
        "x_test = x_test/255.0\n",
        "\n",
        "print(f\"x_train shape: {x_train.shape}\")\n",
        "print(f\"x_test shape: {x_test.shape}\")\n",
        "\n",
        "x_train = np.expand_dims(x_train,axis=-1)\n",
        "x_test = np.expand_dims(x_test, axis=-1)\n",
        "\n",
        "print(f\"x_train shape: {x_train.shape}\")\n",
        "print(f\"x_test shape: {x_test.shape}\")"
      ]
    },
    {
      "cell_type": "code",
      "execution_count": 15,
      "metadata": {
        "colab": {
          "base_uri": "https://localhost:8080/",
          "height": 199
        },
        "id": "Aipq2l7_XsUS",
        "outputId": "13b78ec6-5592-498f-c3d7-e4048e34c9c6"
      },
      "outputs": [],
      "source": [
        "encoder = models.Sequential([layers.InputLayer(input_shape=(28,28,1)),\n",
        "                             layers.Conv2D(32, (3,3), activation='relu', strides=2, padding='same'),\n",
        "                             layers.Conv2D(64, (3,3), activation='relu', strides=2, padding='same'),\n",
        "                             layers.Flatten(),\n",
        "                             layers.Dense(64, activation='relu')])\n",
        "\n",
        "decoder = models.Sequential([layers.InputLayer(input_shape=(64,)),\n",
        "                             layers.Dense(7*7*64, activation='relu'),\n",
        "                             layers.Reshape((7,7,64)),\n",
        "                             layers.Conv2DTranspose(64, (3,3), activation='relu', strides=2, padding='same'),\n",
        "                             layers.Conv2DTranspose(32, (3,3), activation='relu', strides=2, padding='same'),\n",
        "                             layers.Conv2DTranspose(1, (3,3), activation='sigmoid', padding='same')])\n",
        "\n",
        "autoencoder = models.Sequential([encoder,decoder])\n",
        "\n",
        "# autoencoder.build(input_shape=(None, 28, 28, 1))\n"
      ]
    },
    {
      "cell_type": "code",
      "execution_count": 16,
      "metadata": {
        "colab": {
          "base_uri": "https://localhost:8080/",
          "height": 265
        },
        "id": "fGqL7UWVZfIg",
        "outputId": "871391f1-6a1d-4aa7-ac3d-b1273e34407e"
      },
      "outputs": [
        {
          "name": "stdout",
          "output_type": "stream",
          "text": [
            "Model: \"sequential_15\"\n",
            "_________________________________________________________________\n",
            " Layer (type)                Output Shape              Param #   \n",
            "=================================================================\n",
            " conv2d_10 (Conv2D)          (None, 14, 14, 32)        320       \n",
            "                                                                 \n",
            " conv2d_11 (Conv2D)          (None, 7, 7, 64)          18496     \n",
            "                                                                 \n",
            " flatten_5 (Flatten)         (None, 3136)              0         \n",
            "                                                                 \n",
            " dense_10 (Dense)            (None, 64)                200768    \n",
            "                                                                 \n",
            "=================================================================\n",
            "Total params: 219584 (857.75 KB)\n",
            "Trainable params: 219584 (857.75 KB)\n",
            "Non-trainable params: 0 (0.00 Byte)\n",
            "_________________________________________________________________\n"
          ]
        }
      ],
      "source": [
        "# autoencoder.summary()\n",
        "encoder.summary()"
      ]
    },
    {
      "cell_type": "code",
      "execution_count": 17,
      "metadata": {
        "colab": {
          "base_uri": "https://localhost:8080/",
          "height": 298
        },
        "id": "dyY-1xiaZg3Q",
        "outputId": "2b437617-15b0-4d3c-c544-c525ed4926a8"
      },
      "outputs": [
        {
          "name": "stdout",
          "output_type": "stream",
          "text": [
            "Model: \"sequential_16\"\n",
            "_________________________________________________________________\n",
            " Layer (type)                Output Shape              Param #   \n",
            "=================================================================\n",
            " dense_11 (Dense)            (None, 3136)              203840    \n",
            "                                                                 \n",
            " reshape_5 (Reshape)         (None, 7, 7, 64)          0         \n",
            "                                                                 \n",
            " conv2d_transpose_15 (Conv2  (None, 14, 14, 64)        36928     \n",
            " DTranspose)                                                     \n",
            "                                                                 \n",
            " conv2d_transpose_16 (Conv2  (None, 28, 28, 32)        18464     \n",
            " DTranspose)                                                     \n",
            "                                                                 \n",
            " conv2d_transpose_17 (Conv2  (None, 28, 28, 1)         289       \n",
            " DTranspose)                                                     \n",
            "                                                                 \n",
            "=================================================================\n",
            "Total params: 259521 (1013.75 KB)\n",
            "Trainable params: 259521 (1013.75 KB)\n",
            "Non-trainable params: 0 (0.00 Byte)\n",
            "_________________________________________________________________\n"
          ]
        }
      ],
      "source": [
        "decoder.summary()"
      ]
    },
    {
      "cell_type": "code",
      "execution_count": 18,
      "metadata": {
        "id": "FYFu0mrKZj3-"
      },
      "outputs": [],
      "source": [
        "autoencoder.compile(optimizer='adam', loss='binary_crossentropy')"
      ]
    },
    {
      "cell_type": "code",
      "execution_count": 19,
      "metadata": {
        "colab": {
          "background_save": true,
          "base_uri": "https://localhost:8080/"
        },
        "id": "98uOBeKUZ0eD",
        "outputId": "692710ea-8398-4400-fe55-82bd0f863c6d"
      },
      "outputs": [
        {
          "name": "stdout",
          "output_type": "stream",
          "text": [
            "Epoch 1/10\n"
          ]
        },
        {
          "name": "stderr",
          "output_type": "stream",
          "text": [
            "2025-07-20 20:46:58.041825: I tensorflow/core/grappler/optimizers/custom_graph_optimizer_registry.cc:117] Plugin optimizer for device_type GPU is enabled.\n"
          ]
        },
        {
          "name": "stdout",
          "output_type": "stream",
          "text": [
            "469/469 [==============================] - 8s 12ms/step - loss: 0.1680 - val_loss: 0.0956\n",
            "Epoch 2/10\n",
            "469/469 [==============================] - 5s 10ms/step - loss: 0.0895 - val_loss: 0.0834\n",
            "Epoch 3/10\n",
            "469/469 [==============================] - 5s 10ms/step - loss: 0.0825 - val_loss: 0.0799\n",
            "Epoch 4/10\n",
            "469/469 [==============================] - 5s 10ms/step - loss: 0.0796 - val_loss: 0.0775\n",
            "Epoch 5/10\n",
            "469/469 [==============================] - 5s 10ms/step - loss: 0.0780 - val_loss: 0.0765\n",
            "Epoch 6/10\n",
            "469/469 [==============================] - 5s 10ms/step - loss: 0.0770 - val_loss: 0.0774\n",
            "Epoch 7/10\n",
            "469/469 [==============================] - 5s 10ms/step - loss: 0.0764 - val_loss: 0.0754\n",
            "Epoch 8/10\n",
            "469/469 [==============================] - 5s 10ms/step - loss: 0.0758 - val_loss: 0.0748\n",
            "Epoch 9/10\n",
            "469/469 [==============================] - 5s 10ms/step - loss: 0.0756 - val_loss: 0.0750\n",
            "Epoch 10/10\n",
            "469/469 [==============================] - 5s 10ms/step - loss: 0.0754 - val_loss: 0.0745\n"
          ]
        },
        {
          "data": {
            "text/plain": [
              "<keras.src.callbacks.History at 0x3211ce740>"
            ]
          },
          "execution_count": 19,
          "metadata": {},
          "output_type": "execute_result"
        }
      ],
      "source": [
        "autoencoder.fit(x_train, x_train, epochs=10, batch_size=128, validation_data=(x_test, x_test))"
      ]
    },
    {
      "cell_type": "code",
      "execution_count": 20,
      "metadata": {
        "colab": {
          "base_uri": "https://localhost:8080/",
          "height": 345
        },
        "id": "VEiRMKlPZ4p4",
        "outputId": "f3192f1e-f8d2-450a-e73f-64a3d18eb6bb"
      },
      "outputs": [
        {
          "name": "stdout",
          "output_type": "stream",
          "text": [
            "313/313 [==============================] - 1s 4ms/step\n"
          ]
        },
        {
          "data": {
            "image/png": "[encoded data removed]",
            "text/plain": [
              "<Figure size 2000x400 with 20 Axes>"
            ]
          },
          "metadata": {},
          "output_type": "display_data"
        }
      ],
      "source": [
        "decoded_images = autoencoder.predict(x_test)\n",
        "\n",
        "n = 10\n",
        "plt.figure(figsize=(20,4))\n",
        "\n",
        "for i in range(n):\n",
        "    ax = plt.subplot(2, n, i+1)\n",
        "    plt.imshow(x_test[i].reshape(28,28), cmap=\"gray\")\n",
        "    plt.title(\"Original\")\n",
        "    plt.gray()\n",
        "    ax.axis('off')\n",
        "\n",
        "    ax = plt.subplot(2, n, i+1+n)\n",
        "    plt.imshow(decoded_images[i].reshape(28,28), cmap=\"gray\")\n",
        "    plt.title(\"Reconstructed\")\n",
        "    plt.gray()\n",
        "    ax.axis('off')\n",
        "\n",
        "plt.show()"
      ]
    },
    {
      "cell_type": "code",
      "execution_count": 21,
      "metadata": {
        "id": "E9vwAyRLb92k"
      },
      "outputs": [],
      "source": [
        "autoencoder.save('autoencoder_mnist.keras')"
      ]
    }
  ],
  "metadata": {
    "colab": {
      "provenance": []
    },
    "kernelspec": {
      "display_name": "Python (tf-mac)",
      "language": "python",
      "name": "tf-mac"
    },
    "language_info": {
      "codemirror_mode": {
        "name": "ipython",
        "version": 3
      },
      "file_extension": ".py",
      "mimetype": "text/x-python",
      "name": "python",
      "nbconvert_exporter": "python",
      "pygments_lexer": "ipython3",
      "version": "3.10.18"
    }
  },
  "nbformat": 4,
  "nbformat_minor": 0
}
